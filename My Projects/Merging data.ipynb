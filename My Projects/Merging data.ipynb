{
 "cells": [
  {
   "cell_type": "code",
   "execution_count": 221,
   "metadata": {},
   "outputs": [],
   "source": [
    "import numpy as np\n",
    "import pandas as pd\n",
    "df1 = pd.read_csv('Wyoming President by County.csv')\n",
    "df2 = pd.read_csv('Wyoming US Senate by County.csv')\n",
    "df3 = pd.read_csv('Wyoming Governor by County.csv')\n",
    "df4 = pd.read_csv('Wyoming Other State Offices by County.csv')\n",
    "#df5 = pd.read_csv('Maine President by Town.csv')\n",
    "#df6 = pd.read_csv('Maine US Senate by Town.csv')\n",
    "#df7 = pd.read_csv('Maine Governor by Town.csv')"
   ]
  },
  {
   "cell_type": "code",
   "execution_count": 222,
   "metadata": {},
   "outputs": [],
   "source": [
    "df1.insert(1, 'Office', 'President', True)\n",
    "df2.insert(1, 'Office', 'US Senate', True)\n",
    "df3.insert(1, 'Office', 'Governor', True)\n",
    "#df5.insert(1, 'Office', 'President', True)\n",
    "#df6.insert(1, 'Office', 'US Senate', True)\n",
    "#df7.insert(1, 'Office', 'Governor', True)"
   ]
  },
  {
   "cell_type": "code",
   "execution_count": 223,
   "metadata": {},
   "outputs": [],
   "source": [
    "df = pd.concat([df1,df2,df3,df4], axis=0, ignore_index=True)"
   ]
  },
  {
   "cell_type": "code",
   "execution_count": 224,
   "metadata": {},
   "outputs": [],
   "source": [
    "df.to_csv(\"Wyoming.csv\")"
   ]
  },
  {
   "cell_type": "code",
   "execution_count": null,
   "metadata": {},
   "outputs": [],
   "source": []
  }
 ],
 "metadata": {
  "kernelspec": {
   "display_name": "Python 3",
   "language": "python",
   "name": "python3"
  },
  "language_info": {
   "codemirror_mode": {
    "name": "ipython",
    "version": 3
   },
   "file_extension": ".py",
   "mimetype": "text/x-python",
   "name": "python",
   "nbconvert_exporter": "python",
   "pygments_lexer": "ipython3",
   "version": "3.6.5"
  }
 },
 "nbformat": 4,
 "nbformat_minor": 4
}
