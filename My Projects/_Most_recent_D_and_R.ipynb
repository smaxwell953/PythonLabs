{
 "cells": [
  {
   "cell_type": "code",
   "execution_count": null,
   "metadata": {},
   "outputs": [],
   "source": [
    "import csv\n",
    "import numpy as np\n",
    "import pandas as pd"
   ]
  },
  {
   "cell_type": "code",
   "execution_count": null,
   "metadata": {},
   "outputs": [],
   "source": [
    "#open filecolorado_mr = pd.read_csv('Colorado_US_Senate.csv', delimiter=',')\n",
    "colorado_mr = pd.read_csv('Wisconsin President by County.csv', delimiter=',')\n",
    "\n",
    "#convert floats to ints\n",
    "pd.options.display.float_format = '{:.0f}'.format"
   ]
  },
  {
   "cell_type": "code",
   "execution_count": null,
   "metadata": {},
   "outputs": [],
   "source": [
    "#County names\n",
    "counties = ['Adams', 'Ashland', 'Barron', 'Bayfield', 'Brown', 'Buffalo', 'Burnett', 'Calumet', 'Chippewa', 'Clark', 'Columbia', 'Crawford', 'Dane', 'Dodge', 'Door', 'Douglas', 'Dunn', 'Eau Claire', 'Florence', 'Fond du Lac', 'Forest', 'Grant', 'Green', 'Green Lake', 'Iowa', 'Iron', 'Jackson', 'Jefferson', 'Juneau', 'Kenosha', 'Kewaunee', 'La Crosse', 'Lafayette', 'Langlade', 'Lincoln', 'Manitowoc', 'Marathon', 'Marinette', 'Marquette', 'Menominee', 'Milwaukee', 'Monroe', 'Oconto', 'Oneida', 'Outagamie', 'Ozaukee', 'Pepin', 'Pierce', 'Polk', 'Portage', 'Price', 'Racine', 'Richland', 'Rock', 'Rusk', 'Sauk', 'Sawyer', 'Shawano', 'Sheboygan', 'Saint Croix', 'Taylor', 'Trempealeau', 'Vernon', 'Vilas', 'Walworth', 'Washburn', 'Washington', 'Waukesha', 'Waupaca', 'Waushara', 'Winnebago', 'Wood']\n",
    "\n",
    "colorado_mr"
   ]
  },
  {
   "cell_type": "code",
   "execution_count": null,
   "metadata": {},
   "outputs": [],
   "source": [
    "#Remove third party columns and rows with zeroes in D# or R# columns\n",
    "colorado_mr = colorado_mr.loc[:, ['Year', 'County', 'D#', 'R#']]\n",
    "colorado_mr = colorado_mr.dropna()\n",
    "\n",
    "#Calculate the difference between D and R and add column\n",
    "colorado_mr['Diff'] = colorado_mr['D#'] - colorado_mr['R#']\n",
    "colorado_mr.append(colorado_mr['Diff'])\n",
    "\n",
    "colorado_mr"
   ]
  },
  {
   "cell_type": "code",
   "execution_count": null,
   "metadata": {},
   "outputs": [],
   "source": [
    "n = 0\n",
    "for n in range(len(counties)):\n",
    "    colorado_mr_dem_by_county_year_1 = colorado_mr_dem_by_county_year.where(colorado_mr_dem['County'] == counties[n])\n",
    "    colorado_mr_dem_by_county_year_2 = colorado_mr_dem_by_county_year_1.dropna()\n",
    "    print(counties[n], 'County:', int(max(colorado_mr_dem_by_county_year_2['Year'])))\n",
    "    n+=1"
   ]
  },
  {
   "cell_type": "code",
   "execution_count": null,
   "metadata": {},
   "outputs": [],
   "source": [
    "#When counties voted D\n",
    "colorado_mr_dem = colorado_mr.where(colorado_mr['Diff'] > 0)\n",
    "colorado_mr_dem = colorado_mr_dem.dropna()\n",
    "\n",
    "#Sort dataframe by county followed by year\n",
    "colorado_mr_dem_by_county_year = colorado_mr_dem.sort_values(by=['County', 'Year'])\n",
    "colorado_mr_dem_by_county_year\n",
    "\n",
    "colorado_mr_dem_by_county_year"
   ]
  },
  {
   "cell_type": "code",
   "execution_count": null,
   "metadata": {},
   "outputs": [],
   "source": [
    "#When counties voted R\n",
    "colorado_mr_rep = colorado_mr.where(colorado_mr['Diff'] < 0)\n",
    "colorado_mr_rep = colorado_mr_rep.dropna()\n",
    "\n",
    "#Sort dataframe by county followed by year\n",
    "colorado_mr_rep_by_county_year = colorado_mr_rep.sort_values(by=['County', 'Year'])\n",
    "colorado_mr_rep_by_county_year\n",
    "\n",
    "colorado_mr_rep_by_county_year"
   ]
  },
  {
   "cell_type": "code",
   "execution_count": null,
   "metadata": {},
   "outputs": [],
   "source": [
    "rep_counties = []\n",
    "i = 0\n",
    "\n",
    "for i in range(len(counties)):\n",
    "    county_list = colorado_mr_rep_by_county_year[colorado_mr_rep_by_county_year['County']==counties[i]].index.tolist()\n",
    "    if len(county_list) > 0:\n",
    "        rep_counties.append(counties[i])\n",
    "        i+=1"
   ]
  },
  {
   "cell_type": "code",
   "execution_count": null,
   "metadata": {},
   "outputs": [],
   "source": [
    "n = 0\n",
    "for n in range(len(rep_counties)):\n",
    "    colorado_mr_rep_by_county_year_1 = colorado_mr_rep_by_county_year.where(colorado_mr_rep['County'] == rep_counties[n])\n",
    "    colorado_mr_rep_by_county_year_2 = colorado_mr_rep_by_county_year_1.dropna()\n",
    "    print(rep_counties[n], 'County:', int(max(colorado_mr_rep_by_county_year_2['Year'])))\n",
    "    n+=1"
   ]
  }
 ],
 "metadata": {
  "kernelspec": {
   "display_name": "Python 3",
   "language": "python",
   "name": "python3"
  },
  "language_info": {
   "codemirror_mode": {
    "name": "ipython",
    "version": 3
   },
   "file_extension": ".py",
   "mimetype": "text/x-python",
   "name": "python",
   "nbconvert_exporter": "python",
   "pygments_lexer": "ipython3",
   "version": "3.6.5"
  }
 },
 "nbformat": 4,
 "nbformat_minor": 2
}
