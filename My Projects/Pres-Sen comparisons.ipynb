{
 "cells": [
  {
   "cell_type": "code",
   "execution_count": 57,
   "metadata": {},
   "outputs": [],
   "source": [
    "import csv\n",
    "import numpy as np\n",
    "import pandas as pd\n",
    "import statistics"
   ]
  },
  {
   "cell_type": "code",
   "execution_count": 45,
   "metadata": {},
   "outputs": [],
   "source": [
    "#open file\n",
    "pres_sen = pd.read_csv('pres-sen.csv', delimiter=',')"
   ]
  },
  {
   "cell_type": "code",
   "execution_count": 64,
   "metadata": {},
   "outputs": [],
   "source": [
    "#Compare Pres diff and Senate diff\n",
    "pres_sen['Rep_Diff'] = pres_sen['RepSen'] - pres_sen['RepPres']\n",
    "pres_sen['Dem_Diff'] = pres_sen['DemSen'] - pres_sen['DemPres']\n",
    "pres_sen['PS_Diff'] = pres_sen['Rep_Diff'] - pres_sen['Dem_Diff']"
   ]
  },
  {
   "cell_type": "code",
   "execution_count": 63,
   "metadata": {},
   "outputs": [
    {
     "name": "stdout",
     "output_type": "stream",
     "text": [
      "1922 :  -25.85\n",
      "1926 :  -12.68\n",
      "1930 :  -28.33\n",
      "1934 :  2.55\n",
      "1938 :  13.7\n",
      "1942 :  5.21\n",
      "1946 :  9.62\n",
      "1950 :  -3.31\n",
      "1954 :  -34.12\n",
      "1958 :  -36.33\n",
      "1962 :  -9.96\n",
      "1966 :  5.56\n",
      "1970 :  -14.78\n",
      "1974 :  -46.9\n",
      "1978 :  -4.78\n",
      "1982 :  -25.12\n",
      "1986 :  -24.36\n",
      "1990 :  -14.57\n",
      "1994 :  9.36\n",
      "1998 :  5.73\n",
      "2002 :  2.83\n",
      "2006 :  -11.44\n",
      "2010 :  13.46\n",
      "2014 :  5.33\n",
      "2018 :  -11.88\n"
     ]
    }
   ],
   "source": [
    "pres_sen_year = {}\n",
    "avg_ps_year = {}\n",
    "for year in range(1922, 2022, 4):\n",
    "    pres_sen_year[year] = pres_sen.where(pres_sen['Senate'] == year)\n",
    "    pres_sen_year[year] = pres_sen_year[year].dropna()\n",
    "    avg_ps_year[year] = pres_sen_year[year]['PS_Diff'].mean()\n",
    "    print(year, \": \", round(avg_ps_year[year], 2))"
   ]
  },
  {
   "cell_type": "code",
   "execution_count": 55,
   "metadata": {},
   "outputs": [],
   "source": [
    "pres_sen_no_unopp = pres_sen.where(pres_sen['DemSen'] != 0)\n",
    "pres_sen_no_unopp = pres_sen_no_unopp.dropna()\n",
    "pres_sen_no_unopp = pres_sen.where(pres_sen['RepSen'] != 0)\n",
    "pres_sen_no_unopp = pres_sen_no_unopp.dropna()"
   ]
  },
  {
   "cell_type": "code",
   "execution_count": 62,
   "metadata": {},
   "outputs": [
    {
     "name": "stdout",
     "output_type": "stream",
     "text": [
      "1922 :  -24.12\n",
      "1926 :  -13.67\n",
      "1930 :  -21.77\n",
      "1934 :  5.74\n",
      "1938 :  14.69\n",
      "1942 :  13.3\n",
      "1946 :  11.53\n",
      "1950 :  4.89\n",
      "1954 :  -25.95\n",
      "1958 :  -33.83\n",
      "1962 :  -8.2\n",
      "1966 :  15.75\n",
      "1970 :  -12.9\n",
      "1974 :  -44.17\n",
      "1978 :  0.56\n",
      "1982 :  -25.12\n",
      "1986 :  -24.36\n",
      "1990 :  -5.17\n",
      "1994 :  9.36\n",
      "1998 :  5.73\n",
      "2002 :  4.52\n",
      "2006 :  -11.44\n",
      "2010 :  13.46\n",
      "2014 :  5.33\n",
      "2018 :  -10.18\n"
     ]
    }
   ],
   "source": [
    "pres_sen_no_unopp_year = {}\n",
    "avg_ps_no_unopp_year = {}\n",
    "for year in range(1922, 2022, 4):\n",
    "    pres_sen_no_unopp_year[year] = pres_sen_no_unopp.where(pres_sen['Senate'] == year)\n",
    "    pres_sen_no_unopp_year[year] = pres_sen_no_unopp_year[year].dropna()\n",
    "    avg_ps_no_unopp_year[year] = pres_sen_no_unopp_year[year]['PS_Diff'].mean()\n",
    "    print(year, \": \", round(avg_ps_no_unopp_year[year], 2))"
   ]
  },
  {
   "cell_type": "code",
   "execution_count": null,
   "metadata": {},
   "outputs": [],
   "source": []
  }
 ],
 "metadata": {
  "kernelspec": {
   "display_name": "Python 3",
   "language": "python",
   "name": "python3"
  },
  "language_info": {
   "codemirror_mode": {
    "name": "ipython",
    "version": 3
   },
   "file_extension": ".py",
   "mimetype": "text/x-python",
   "name": "python",
   "nbconvert_exporter": "python",
   "pygments_lexer": "ipython3",
   "version": "3.6.5"
  }
 },
 "nbformat": 4,
 "nbformat_minor": 2
}
