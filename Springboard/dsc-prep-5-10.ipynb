def binary_search(list_of_numbers, query_item):
    #Set index of the first item in the list and an index of the last item in the list
    index_first = 0
    index_last = len(list_of_numbers)-1
    #Set the found variable to False
    found = False

    while index_first <= index_last and not found: #Check if the index_first is less than or equal to the index_last
        
        middle_index = (index_first + index_last)//2 #using index_first and index_last find the middle index

        if query_item == list_of_numbers[middle_index]: #Check if the middle element is equal to the query_item     
            found = True
            break
        else:
            if query_item < list_of_numbers[middle_index]:
	            index_last = middle_index-1 #If the query_item is less than the middle item, use the index_last to eliminate the upper part of the list
            else:
                index_first = middle_index + 1
    
    #Return the found boolean variable
    return found

test0 = [-3, 1, 3, 9, 11, 14, 22, 123, 302, 304, 434, 501, 1230, 5412, 381923]
searchItem0 = 13
print(binary_search(test0, searchItem0))

test1 = [1, 7, 9, 12, 22, 43, 104]
searchItem1 = 9
print(binary_search(test1, searchItem1))
 
test2 = [-20, -5, 0, 0, 30, 100]
searchItem2 = 31
print(binary_search(test2, searchItem2))

test3 = [4, 17, 28, 30, 52, 61, 666, 1001]
searchItem3 = 666
print(binary_search(test3, searchItem3))
