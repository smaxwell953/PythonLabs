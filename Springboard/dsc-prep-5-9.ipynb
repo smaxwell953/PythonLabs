def bubble_sort(list_of_numbers):
    for i in range(len(list_of_numbers)): #run N times, where N is number of elements in a list
        # Last i elements are already in place
        # It starts at 1 so we can access the previous element
        for j in range(1, len(list_of_numbers)-i): # N-i elements
            if list_of_numbers[j-1] > list_of_numbers[j]: #check if previous element is bigger than the current element
                #Swap code from the instructors notes:
                temp = list_of_numbers[j-1]
                list_of_numbers[j-1] = list_of_numbers[j]
                list_of_numbers[j] = temp

    return list_of_numbers

test0 = [3, 22, 14, 434, 501, 11, 9, 1230, 304, 123, 5412, 381923, 302, -3, 1]
test1 = [43, 12, 7, 9, 22, 1, 104]
test2 = [100, 0, 0, -20, 30, -5]
test3  = [28, 4, 17, 666, 1001, 52, 61, 30]

print(bubble_sort(test0))
print(bubble_sort(test1))
print(bubble_sort(test2))
print(bubble_sort(test3))
